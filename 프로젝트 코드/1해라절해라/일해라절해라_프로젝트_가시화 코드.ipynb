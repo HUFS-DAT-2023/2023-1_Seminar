{
 "cells": [
  {
   "cell_type": "code",
   "execution_count": null,
   "id": "a1ec578e",
   "metadata": {},
   "outputs": [],
   "source": [
    "#!/usr/bin/env python\n",
    "# coding: utf-8\n",
    "\n",
    "# # 공격지표(성공률,3점/2점슛,자유투,어시스트,득점)\n",
    "\n",
    "import matplotlib.pyplot as plt\n",
    "import matplotlib\n",
    "matplotlib.rcParams['font.family'] = 'Malgun Gothic' # Windows\n",
    "matplotlib.rcParams['font.size'] = 10 # 글자 크기\n",
    "matplotlib.rcParams['axes.unicode_minus'] = False # 한글 폰트를 사용 시, 마이너스 글자가 깨지는 현상을 해결\n",
    "\n"
   ]
  },
  {
   "cell_type": "code",
   "execution_count": null,
   "id": "4d671ced",
   "metadata": {},
   "outputs": [],
   "source": [
    "# # 10개 팀 칼럼당 비교_공격\n",
    "\n",
    "labels = ['Brooklyn','Miami','Atlanta','Toronto','Chicago','Golden state','Los angeles','Minesota','New orleans','Oklahoma'] # 공격지표의 성공률만 비교\n",
    "values = [0.45,0.46,0.47,0.48,0.49,0.49,0.45,0.5,0.47,0.46] # 성공률\n",
    "plt.xlim(0.4,0.50)\n",
    "colors = ['yellow','orange','red','pink','green','blue','purple','brown','gray','black']\n",
    "plt.barh(labels, values, color=colors, alpha=0.5)\n",
    "plt.title('성공률')"
   ]
  },
  {
   "cell_type": "code",
   "execution_count": null,
   "id": "f1942864",
   "metadata": {},
   "outputs": [],
   "source": [
    "labels = ['Brooklyn','Miami','Atlanta','Toronto','Chicago','Golden state','Los angeles','Minesota','New orleans','Oklahoma'] # 공격지표 비교\n",
    "values = [0.32,0.28,0.26,0.31,0.38,0.36,0.32,0.33,0.34,0.35] # 3점슛\n",
    "plt.xlim(0.2,0.4)\n",
    "colors = ['yellow','orange','red','pink','green','blue','purple','brown','gray','black']\n",
    "plt.barh(labels, values, color=colors, alpha=0.5)\n",
    "plt.title('3점슛')"
   ]
  },
  {
   "cell_type": "code",
   "execution_count": null,
   "id": "b5751ad1",
   "metadata": {},
   "outputs": [],
   "source": [
    "\n",
    "labels = ['Brooklyn','Miami','Atlanta','Toronto','Chicago','Golden state','Los angeles','Minesota','New orleans','Oklahoma'] # 공격지표 비교\n",
    "values = [0.5,0.55,0.56,0.54,0.57,0.56,0.5,0.58,0.52,0.55] # 2점슛\n",
    "plt.xlim(0.4,0.6)\n",
    "colors = ['yellow','orange','red','pink','green','blue','purple','brown','gray','black']\n",
    "plt.barh(labels, values, color=colors, alpha=0.5)\n",
    "plt.title('2점슛')"
   ]
  },
  {
   "cell_type": "code",
   "execution_count": null,
   "id": "caea0103",
   "metadata": {},
   "outputs": [],
   "source": [
    "labels = ['Brooklyn','Miami','Atlanta','Toronto','Chicago','Golden state','Los angeles','Minnesota','New orleans','Oklahoma'] # 공격지표 비교\n",
    "values = [0.78,0.79,0.79,0.78,0.71,0.75,0.73,0.8,0.78,0.73] # 자유투\n",
    "plt.xlim(0.7,0.8)\n",
    "colors = ['yellow','orange','red','pink','green','blue','purple','brown','gray','black']\n",
    "plt.barh(labels, values, color=colors, alpha=0.5)\n",
    "plt.title('자유투')"
   ]
  },
  {
   "cell_type": "code",
   "execution_count": null,
   "id": "f996b38f",
   "metadata": {},
   "outputs": [],
   "source": [
    "\n",
    "labels = ['Brooklyn','Miami','Atlanta','Toronto','Chicago','Golden state','Los angeles','Minesota','New orleans','Oklahoma'] # 공격지표 비교\n",
    "values = [2.37,1.85,1.69,1.73,1.75,2.33,1.9,2.12,2.25,1.81] # 어시스트\n",
    "plt.xlim(1.6,2.4)\n",
    "colors = ['yellow','orange','red','pink','green','blue','purple','brown','gray','black']\n",
    "plt.barh(labels, values, color=colors, alpha=0.5)\n",
    "plt.title('어시스트')"
   ]
  },
  {
   "cell_type": "code",
   "execution_count": null,
   "id": "bd6877d3",
   "metadata": {},
   "outputs": [],
   "source": [
    "\n",
    "labels = ['Brooklyn','Miami','Atlanta','Toronto','Chicago','Golden state','Los angeles','Minesota','New orleans','Oklahoma'] # 공격지표 비교\n",
    "values = [9.63,8.77,8.39,8.2,7.89,9.52,8.82,9.09,10.05,9.09] # 득점\n",
    "plt.xlim(7.8,10.1)\n",
    "colors = ['yellow','orange','red','pink','green','blue','purple','brown','gray','black']\n",
    "plt.barh(labels, values, color=colors, alpha=0.5)\n",
    "plt.title('득점')"
   ]
  },
  {
   "cell_type": "code",
   "execution_count": null,
   "id": "4e3e8691",
   "metadata": {},
   "outputs": [],
   "source": [
    "# # 10개 팀 칼럼 당 비교_수비\n",
    "\n",
    "labels = ['Brooklyn','Miami','Atlanta','Toronto','Chicago','Golden state','Los angeles','Minesota','New orleans','Oklahoma'] # 공격지표 비교\n",
    "values = [3.49,3.64,3.29,3.36,3.11,3.66,3.66,3.19,3.69,3.63] # 리바운드\n",
    "plt.xlim(3.0,3.7)\n",
    "colors = ['yellow','orange','red','pink','green','blue','purple','brown','gray','black']\n",
    "plt.barh(labels, values, color=colors, alpha=0.5)\n",
    "plt.title('리바운드')"
   ]
  },
  {
   "cell_type": "code",
   "execution_count": null,
   "id": "05fcb181",
   "metadata": {},
   "outputs": [],
   "source": [
    "\n",
    "labels = ['Brooklyn','Miami','Atlanta','Toronto','Chicago','Golden state','Los angeles','Minesota','New orleans','Oklahoma'] # 공격지표 비교\n",
    "values = [0.64,0.7,0.51,0.76,0.59,0.61,0.53,0.6,0.74,0.67] # 스틸\n",
    "plt.xlim(0.5,0.78)\n",
    "colors = ['yellow','orange','red','pink','green','blue','purple','brown','gray','black']\n",
    "plt.barh(labels, values, color=colors, alpha=0.5)\n",
    "plt.title('스틸')"
   ]
  },
  {
   "cell_type": "code",
   "execution_count": null,
   "id": "5369eb7b",
   "metadata": {},
   "outputs": [],
   "source": [
    "\n",
    "labels = ['Brooklyn','Miami','Atlanta','Toronto','Chicago','Golden state','Los angeles','Minesota','New orleans','Oklahoma'] # 공격지표 비교\n",
    "values = [0.46,0.31,0.33,0.39,0.35,0.35,0.36,0.4,0.35,0.38] # 블락\n",
    "plt.xlim(0.3,0.48)\n",
    "colors = ['yellow','orange','red','pink','green','blue','purple','brown','gray','black']\n",
    "plt.barh(labels, values, color=colors, alpha=0.5)\n",
    "plt.title('블락')\n"
   ]
  },
  {
   "cell_type": "code",
   "execution_count": null,
   "id": "44d40473",
   "metadata": {},
   "outputs": [],
   "source": [
    "\n",
    "labels = ['Brooklyn','Miami','Atlanta','Toronto','Chicago','Golden state','Los angeles','Minesota','New orleans','Oklahoma'] # 공격지표 비교\n",
    "values = [1.32,1.06,0.86,0.8,0.86,1.34,1.02,1.12,1.25,0.97] # 실책\n",
    "plt.xlim(0.75,1.4)\n",
    "colors = ['yellow','orange','red','pink','green','blue','purple','brown','gray','black']\n",
    "plt.barh(labels, values, color=colors, alpha=0.5)\n",
    "plt.title('실책')"
   ]
  },
  {
   "cell_type": "code",
   "execution_count": null,
   "id": "179e7c58",
   "metadata": {},
   "outputs": [],
   "source": [
    "\n",
    "labels = ['Brooklyn','Miami','Atlanta','Toronto','Chicago','Golden state','Los angeles','Minesota','New orleans','Oklahoma'] # 공격지표 비교\n",
    "values = [1.91,1.85,1.39,1.56,1.44,1.79,1.48,1.75,1.77,1.77] # 파울\n",
    "plt.xlim(1.3,1.95)\n",
    "colors = ['yellow','orange','red','pink','green','blue','purple','brown','gray','black']\n",
    "plt.barh(labels, values, color=colors, alpha=0.5)\n",
    "plt.title('파울')\n"
   ]
  },
  {
   "cell_type": "code",
   "execution_count": null,
   "id": "1eef0ac2",
   "metadata": {},
   "outputs": [],
   "source": [
    "\n",
    "# # 2/3점슛 합쳐보기\n",
    "\n",
    "w = 0.25\n",
    "plt.bar(index - w, df['국어'], width=w, label='국어')\n",
    "plt.bar(index, df['영어'], width=w, label='영어')\n",
    "plt.bar(index + w, df['수학'], width=w, label='수학')\n",
    "plt.legend(ncol=3)"
   ]
  },
  {
   "cell_type": "code",
   "execution_count": null,
   "id": "d395aea3",
   "metadata": {},
   "outputs": [],
   "source": [
    "\n",
    "import matplotlib.pyplot as plt\n",
    "import numpy as np\n",
    "\n",
    "# 데이터 설정\n",
    "teams = ['Brooklyn','Miami','Atlanta','Toronto','Chicago','Golden state','Los angeles','Minnesota','New orleans','Oklahoma']\n",
    "categories = ['Category 1', 'Category 2']\n",
    "\n",
    "values1 = [0.5,0.55,0.56,0.54,0.57,0.56,0.5,0.58,0.52,0.55]\n",
    "values2 = [0.32,0.28,0.26,0.31,0.38,0.36,0.32,0.33,0.34,0.35]"
   ]
  },
  {
   "cell_type": "code",
   "execution_count": null,
   "id": "f29d9610",
   "metadata": {},
   "outputs": [],
   "source": [
    "# 막대 그래프 생성\n",
    "y = np.arange(len(teams))  # y 좌표 값 설정\n",
    "width = 0.4  # 막대의 너비\n",
    "\n",
    "fig, ax = plt.subplots(figsize=(8, 6))\n",
    "\n",
    "ax.barh(y - width, values1, width, label='2점슛', color='green',alpha=0.6)\n",
    "ax.barh(y, values2, width, label='3점슛', color='red',alpha=0.5)\n",
    "\n",
    "ax.set_ylabel('팀')\n",
    "ax.set_xlabel('값')\n",
    "ax.set_title('각 팀 당 2점과 3점슛')\n",
    "ax.set_yticks(y)\n",
    "ax.set_yticklabels(teams)\n",
    "ax.legend()\n",
    "\n",
    "plt.show()"
   ]
  },
  {
   "cell_type": "code",
   "execution_count": null,
   "id": "087ae3cf",
   "metadata": {},
   "outputs": [],
   "source": [
    "# # 버블 산포도_효율성\n",
    "\n",
    "import pandas as pd\n",
    "\n",
    "data = {\n",
    "    'Team': ['Brooklyn','Miami','Atlanta','Toronto','Chicago','Golden state','Los angeles','Minnesota','New orleans','Oklahoma'],\n",
    "    'fgm': [2.25,2.25,2.4,2.32,2.24,2.13,2.13,2.37,2.69,2.43],\n",
    "    '3pm': [0.93,0.81,0.63,0.72,0.8,1.21,0.82,0.91,0.83,0.98],\n",
    "    'fga': [7.36,6.93,6.68,6.66,6.03,7.21,6.85,6.84,7.59,7.22]\n",
    "}\n",
    "df = pd.DataFrame(data)\n",
    "df['eFG%'] = (df['fgm'] +0.5 * df['3pm'])/df['fga']\n",
    "print(df)\n"
   ]
  },
  {
   "cell_type": "code",
   "execution_count": null,
   "id": "da50f72a",
   "metadata": {},
   "outputs": [],
   "source": [
    "\n",
    "import pandas as pd\n",
    "import matplotlib.pyplot as plt\n",
    "\n",
    "data = {\n",
    "    'Team': ['Brooklyn','Miami','Atlanta','Toronto','Chicago','Golden state','Los angeles','Minnesota','New orleans','Oklahoma'],\n",
    "    'fgm': [2.25,2.25,2.4,2.32,2.24,2.13,2.13,2.37,2.69,2.43],\n",
    "    '3pm': [0.93,0.81,0.63,0.72,0.8,1.21,0.82,0.91,0.83,0.98],\n",
    "    'fga': [7.36,6.93,6.68,6.66,6.03,7.21,6.85,6.84,7.59,7.22],\n",
    "    'eFG%': [0.35,0.33,0.39,0.37,0.39,0.38,0.38,0.42,0.37,0.38]\n",
    "}\n",
    "\n",
    "df = pd.DataFrame(data)\n",
    "fig, ax = plt.subplots(figsize=(8, 4))\n",
    "plt.scatter(df['Team'], df['eFG%'], s=df['eFG%']*500, c=df['eFG%'], cmap='OrRd',alpha=1.0)\n",
    "plt.xlabel('Team')\n",
    "plt.ylabel('eFG%')\n",
    "plt.title('팀 별 효율성')\n",
    "plt.xticks(rotation=45)\n",
    "cbar = plt.colorbar()\n",
    "#cbar.set_label('eFG%')\n",
    "plt.show()\n"
   ]
  }
 ],
 "metadata": {
  "kernelspec": {
   "display_name": "Python 3 (ipykernel)",
   "language": "python",
   "name": "python3"
  },
  "language_info": {
   "codemirror_mode": {
    "name": "ipython",
    "version": 3
   },
   "file_extension": ".py",
   "mimetype": "text/x-python",
   "name": "python",
   "nbconvert_exporter": "python",
   "pygments_lexer": "ipython3",
   "version": "3.10.9"
  }
 },
 "nbformat": 4,
 "nbformat_minor": 5
}
